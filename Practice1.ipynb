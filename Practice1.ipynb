{
 "cells": [
  {
   "cell_type": "code",
   "execution_count": 1,
   "id": "9a9aa3e4",
   "metadata": {},
   "outputs": [],
   "source": [
    "# Import our dependencies\n",
    "import pandas as pd\n",
    "import matplotlib as plt\n",
    "from sklearn.datasets import make_blobs\n",
    "import sklearn as skl\n",
    "import tensorflow as tf"
   ]
  },
  {
   "cell_type": "code",
   "execution_count": 2,
   "id": "3764535d",
   "metadata": {},
   "outputs": [
    {
     "data": {
      "text/plain": [
       "<AxesSubplot:xlabel='Feature 1', ylabel='Feature 2'>"
      ]
     },
     "execution_count": 2,
     "metadata": {},
     "output_type": "execute_result"
    },
    {
     "data": {
      "image/png": "[encoded data removed]",
      "text/plain": [
       "<Figure size 432x288 with 2 Axes>"
      ]
     },
     "metadata": {
      "needs_background": "light"
     },
     "output_type": "display_data"
    }
   ],
   "source": [
    "# Generate dummy dataset\n",
    "X, y = make_blobs(n_samples=1000, centers=2, n_features=2, random_state=78)\n",
    "\n",
    "# Creating a DataFrame with the dummy data\n",
    "df = pd.DataFrame(X, columns=[\"Feature 1\", \"Feature 2\"])\n",
    "df[\"Target\"] = y\n",
    "\n",
    "# Plotting the dummy data\n",
    "df.plot.scatter(x=\"Feature 1\", y=\"Feature 2\", c=\"Target\", colormap=\"winter\")"
   ]
  },
  {
   "cell_type": "code",
   "execution_count": 3,
   "id": "31d3863d",
   "metadata": {},
   "outputs": [],
   "source": [
    "# Use sklearn to split dataset\n",
    "from sklearn.model_selection import train_test_split\n",
    "X_train, X_test, y_train, y_test = train_test_split(X, y, random_state=78)"
   ]
  },
  {
   "cell_type": "code",
   "execution_count": 4,
   "id": "9c317059",
   "metadata": {},
   "outputs": [],
   "source": [
    "# Create scaler instance\n",
    "X_scaler = skl.preprocessing.StandardScaler()\n",
    "\n",
    "# Fit the scaler\n",
    "X_scaler.fit(X_train)\n",
    "\n",
    "# Scale the data\n",
    "X_train_scaled = X_scaler.transform(X_train)\n",
    "X_test_scaled = X_scaler.transform(X_test)"
   ]
  },
  {
   "cell_type": "code",
   "execution_count": 5,
   "id": "2e236417",
   "metadata": {},
   "outputs": [],
   "source": [
    "# Create the Keras Sequential model\n",
    "nn_model = tf.keras.models.Sequential()"
   ]
  },
  {
   "cell_type": "code",
   "execution_count": 6,
   "id": "8cefea3a",
   "metadata": {},
   "outputs": [],
   "source": [
    "# Add our first Dense layer, including the input layer\n",
    "nn_model.add(tf.keras.layers.Dense(units=1, activation=\"relu\", input_dim=2))"
   ]
  },
  {
   "cell_type": "code",
   "execution_count": 7,
   "id": "0526c117",
   "metadata": {},
   "outputs": [],
   "source": [
    "# Add the output layer that uses a probability activation function\n",
    "nn_model.add(tf.keras.layers.Dense(units=1, activation=\"sigmoid\"))"
   ]
  },
  {
   "cell_type": "code",
   "execution_count": 8,
   "id": "572c47c5",
   "metadata": {},
   "outputs": [
    {
     "name": "stdout",
     "output_type": "stream",
     "text": [
      "Model: \"sequential\"\n",
      "_________________________________________________________________\n",
      " Layer (type)                Output Shape              Param #   \n",
      "=================================================================\n",
      " dense (Dense)               (None, 1)                 3         \n",
      "                                                                 \n",
      " dense_1 (Dense)             (None, 1)                 2         \n",
      "                                                                 \n",
      "=================================================================\n",
      "Total params: 5\n",
      "Trainable params: 5\n",
      "Non-trainable params: 0\n",
      "_________________________________________________________________\n"
     ]
    }
   ],
   "source": [
    "# Check the structure of the Sequential model\n",
    "nn_model.summary()"
   ]
  },
  {
   "cell_type": "code",
   "execution_count": 9,
   "id": "2f8f7261",
   "metadata": {},
   "outputs": [],
   "source": [
    "# Compile the Sequential model together and customize metrics\n",
    "nn_model.compile(loss=\"binary_crossentropy\", optimizer=\"adam\", metrics=[\"accuracy\"])"
   ]
  },
  {
   "cell_type": "code",
   "execution_count": 10,
   "id": "619667c9",
   "metadata": {},
   "outputs": [
    {
     "name": "stdout",
     "output_type": "stream",
     "text": [
      "Epoch 1/100\n",
      "24/24 [==============================] - 0s 1ms/step - loss: 0.8717 - accuracy: 0.1173\n",
      "Epoch 2/100\n",
      "24/24 [==============================] - 0s 998us/step - loss: 0.8466 - accuracy: 0.1547\n",
      "Epoch 3/100\n",
      "24/24 [==============================] - 0s 1ms/step - loss: 0.8242 - accuracy: 0.1827\n",
      "Epoch 4/100\n",
      "24/24 [==============================] - 0s 1ms/step - loss: 0.8053 - accuracy: 0.2253\n",
      "Epoch 5/100\n",
      "24/24 [==============================] - 0s 2ms/step - loss: 0.7887 - accuracy: 0.2587\n",
      "Epoch 6/100\n",
      "24/24 [==============================] - 0s 2ms/step - loss: 0.7751 - accuracy: 0.2840\n",
      "Epoch 7/100\n",
      "24/24 [==============================] - 0s 1ms/step - loss: 0.7631 - accuracy: 0.3173\n",
      "Epoch 8/100\n",
      "24/24 [==============================] - 0s 2ms/step - loss: 0.7527 - accuracy: 0.3493\n",
      "Epoch 9/100\n",
      "24/24 [==============================] - 0s 1ms/step - loss: 0.7436 - accuracy: 0.3667\n",
      "Epoch 10/100\n",
      "24/24 [==============================] - 0s 1ms/step - loss: 0.7358 - accuracy: 0.3840\n",
      "Epoch 11/100\n",
      "24/24 [==============================] - 0s 1ms/step - loss: 0.7289 - accuracy: 0.3987\n",
      "Epoch 12/100\n",
      "24/24 [==============================] - 0s 1ms/step - loss: 0.7227 - accuracy: 0.4240\n",
      "Epoch 13/100\n",
      "24/24 [==============================] - 0s 1ms/step - loss: 0.7169 - accuracy: 0.4387\n",
      "Epoch 14/100\n",
      "24/24 [==============================] - 0s 1ms/step - loss: 0.7112 - accuracy: 0.4560\n",
      "Epoch 15/100\n",
      "24/24 [==============================] - 0s 1ms/step - loss: 0.7059 - accuracy: 0.4733\n",
      "Epoch 16/100\n",
      "24/24 [==============================] - 0s 1ms/step - loss: 0.7009 - accuracy: 0.4840\n",
      "Epoch 17/100\n",
      "24/24 [==============================] - 0s 1ms/step - loss: 0.6962 - accuracy: 0.4973\n",
      "Epoch 18/100\n",
      "24/24 [==============================] - 0s 1ms/step - loss: 0.6913 - accuracy: 0.5213\n",
      "Epoch 19/100\n",
      "24/24 [==============================] - 0s 2ms/step - loss: 0.6864 - accuracy: 0.5333\n",
      "Epoch 20/100\n",
      "24/24 [==============================] - 0s 1ms/step - loss: 0.6815 - accuracy: 0.5507\n",
      "Epoch 21/100\n",
      "24/24 [==============================] - 0s 1ms/step - loss: 0.6764 - accuracy: 0.5640\n",
      "Epoch 22/100\n",
      "24/24 [==============================] - 0s 1ms/step - loss: 0.6713 - accuracy: 0.5907\n",
      "Epoch 23/100\n",
      "24/24 [==============================] - 0s 1ms/step - loss: 0.6661 - accuracy: 0.6120\n",
      "Epoch 24/100\n",
      "24/24 [==============================] - 0s 1ms/step - loss: 0.6605 - accuracy: 0.6213\n",
      "Epoch 25/100\n",
      "24/24 [==============================] - 0s 3ms/step - loss: 0.6550 - accuracy: 0.6373\n",
      "Epoch 26/100\n",
      "24/24 [==============================] - 0s 2ms/step - loss: 0.6490 - accuracy: 0.6493\n",
      "Epoch 27/100\n",
      "24/24 [==============================] - 0s 1ms/step - loss: 0.6431 - accuracy: 0.6693\n",
      "Epoch 28/100\n",
      "24/24 [==============================] - 0s 2ms/step - loss: 0.6368 - accuracy: 0.6840\n",
      "Epoch 29/100\n",
      "24/24 [==============================] - 0s 6ms/step - loss: 0.6302 - accuracy: 0.6933\n",
      "Epoch 30/100\n",
      "24/24 [==============================] - 0s 1ms/step - loss: 0.6234 - accuracy: 0.7000\n",
      "Epoch 31/100\n",
      "24/24 [==============================] - 0s 956us/step - loss: 0.6166 - accuracy: 0.7147\n",
      "Epoch 32/100\n",
      "24/24 [==============================] - 0s 852us/step - loss: 0.6092 - accuracy: 0.7253\n",
      "Epoch 33/100\n",
      "24/24 [==============================] - 0s 818us/step - loss: 0.6019 - accuracy: 0.7320\n",
      "Epoch 34/100\n",
      "24/24 [==============================] - 0s 899us/step - loss: 0.5942 - accuracy: 0.7387\n",
      "Epoch 35/100\n",
      "24/24 [==============================] - 0s 867us/step - loss: 0.5860 - accuracy: 0.7520\n",
      "Epoch 36/100\n",
      "24/24 [==============================] - 0s 911us/step - loss: 0.5778 - accuracy: 0.7640\n",
      "Epoch 37/100\n",
      "24/24 [==============================] - 0s 867us/step - loss: 0.5691 - accuracy: 0.7680\n",
      "Epoch 38/100\n",
      "24/24 [==============================] - 0s 867us/step - loss: 0.5602 - accuracy: 0.7773\n",
      "Epoch 39/100\n",
      "24/24 [==============================] - 0s 823us/step - loss: 0.5511 - accuracy: 0.7867\n",
      "Epoch 40/100\n",
      "24/24 [==============================] - 0s 954us/step - loss: 0.5420 - accuracy: 0.7933\n",
      "Epoch 41/100\n",
      "24/24 [==============================] - 0s 867us/step - loss: 0.5326 - accuracy: 0.8067\n",
      "Epoch 42/100\n",
      "24/24 [==============================] - 0s 777us/step - loss: 0.5230 - accuracy: 0.8160\n",
      "Epoch 43/100\n",
      "24/24 [==============================] - 0s 767us/step - loss: 0.5136 - accuracy: 0.8213\n",
      "Epoch 44/100\n",
      "24/24 [==============================] - 0s 824us/step - loss: 0.5043 - accuracy: 0.8267\n",
      "Epoch 45/100\n",
      "24/24 [==============================] - 0s 867us/step - loss: 0.4949 - accuracy: 0.8320\n",
      "Epoch 46/100\n",
      "24/24 [==============================] - 0s 845us/step - loss: 0.4855 - accuracy: 0.8387\n",
      "Epoch 47/100\n",
      "24/24 [==============================] - 0s 803us/step - loss: 0.4760 - accuracy: 0.8493\n",
      "Epoch 48/100\n",
      "24/24 [==============================] - 0s 867us/step - loss: 0.4667 - accuracy: 0.8547\n",
      "Epoch 49/100\n",
      "24/24 [==============================] - 0s 997us/step - loss: 0.4572 - accuracy: 0.8613\n",
      "Epoch 50/100\n",
      "24/24 [==============================] - 0s 954us/step - loss: 0.4478 - accuracy: 0.8627\n",
      "Epoch 51/100\n",
      "24/24 [==============================] - 0s 954us/step - loss: 0.4389 - accuracy: 0.8653\n",
      "Epoch 52/100\n",
      "24/24 [==============================] - 0s 954us/step - loss: 0.4302 - accuracy: 0.8680\n",
      "Epoch 53/100\n",
      "24/24 [==============================] - 0s 1ms/step - loss: 0.4215 - accuracy: 0.8773\n",
      "Epoch 54/100\n",
      "24/24 [==============================] - 0s 911us/step - loss: 0.4129 - accuracy: 0.8827\n",
      "Epoch 55/100\n",
      "24/24 [==============================] - 0s 954us/step - loss: 0.4044 - accuracy: 0.8867\n",
      "Epoch 56/100\n",
      "24/24 [==============================] - 0s 867us/step - loss: 0.3960 - accuracy: 0.8973\n",
      "Epoch 57/100\n",
      "24/24 [==============================] - 0s 1ms/step - loss: 0.3878 - accuracy: 0.8987\n",
      "Epoch 58/100\n",
      "24/24 [==============================] - 0s 1ms/step - loss: 0.3795 - accuracy: 0.9040\n",
      "Epoch 59/100\n",
      "24/24 [==============================] - 0s 954us/step - loss: 0.3715 - accuracy: 0.9107\n",
      "Epoch 60/100\n",
      "24/24 [==============================] - 0s 911us/step - loss: 0.3636 - accuracy: 0.9147\n",
      "Epoch 61/100\n",
      "24/24 [==============================] - 0s 911us/step - loss: 0.3559 - accuracy: 0.9147\n",
      "Epoch 62/100\n",
      "24/24 [==============================] - 0s 954us/step - loss: 0.3483 - accuracy: 0.9160\n",
      "Epoch 63/100\n",
      "24/24 [==============================] - 0s 1ms/step - loss: 0.3410 - accuracy: 0.9187\n",
      "Epoch 64/100\n",
      "24/24 [==============================] - 0s 1ms/step - loss: 0.3338 - accuracy: 0.9240\n",
      "Epoch 65/100\n",
      "24/24 [==============================] - 0s 954us/step - loss: 0.3269 - accuracy: 0.9240\n",
      "Epoch 66/100\n",
      "24/24 [==============================] - 0s 954us/step - loss: 0.3201 - accuracy: 0.9253\n",
      "Epoch 67/100\n",
      "24/24 [==============================] - 0s 867us/step - loss: 0.3134 - accuracy: 0.9333\n",
      "Epoch 68/100\n",
      "24/24 [==============================] - 0s 911us/step - loss: 0.3068 - accuracy: 0.9360\n",
      "Epoch 69/100\n",
      "24/24 [==============================] - 0s 867us/step - loss: 0.3002 - accuracy: 0.9373\n",
      "Epoch 70/100\n",
      "24/24 [==============================] - 0s 911us/step - loss: 0.2938 - accuracy: 0.9427\n",
      "Epoch 71/100\n",
      "24/24 [==============================] - 0s 867us/step - loss: 0.2874 - accuracy: 0.9440\n",
      "Epoch 72/100\n",
      "24/24 [==============================] - 0s 954us/step - loss: 0.2811 - accuracy: 0.9453\n",
      "Epoch 73/100\n",
      "24/24 [==============================] - 0s 911us/step - loss: 0.2748 - accuracy: 0.9467\n",
      "Epoch 74/100\n",
      "24/24 [==============================] - 0s 867us/step - loss: 0.2686 - accuracy: 0.9480\n",
      "Epoch 75/100\n",
      "24/24 [==============================] - 0s 911us/step - loss: 0.2625 - accuracy: 0.9507\n",
      "Epoch 76/100\n",
      "24/24 [==============================] - 0s 954us/step - loss: 0.2563 - accuracy: 0.9507\n",
      "Epoch 77/100\n",
      "24/24 [==============================] - 0s 1ms/step - loss: 0.2503 - accuracy: 0.9533\n",
      "Epoch 78/100\n",
      "24/24 [==============================] - 0s 1ms/step - loss: 0.2443 - accuracy: 0.9547\n",
      "Epoch 79/100\n",
      "24/24 [==============================] - 0s 1ms/step - loss: 0.2385 - accuracy: 0.9560\n",
      "Epoch 80/100\n",
      "24/24 [==============================] - 0s 911us/step - loss: 0.2328 - accuracy: 0.9573\n",
      "Epoch 81/100\n",
      "24/24 [==============================] - 0s 911us/step - loss: 0.2274 - accuracy: 0.9573\n",
      "Epoch 82/100\n"
     ]
    },
    {
     "name": "stdout",
     "output_type": "stream",
     "text": [
      "24/24 [==============================] - 0s 954us/step - loss: 0.2221 - accuracy: 0.9573\n",
      "Epoch 83/100\n",
      "24/24 [==============================] - 0s 911us/step - loss: 0.2169 - accuracy: 0.9600\n",
      "Epoch 84/100\n",
      "24/24 [==============================] - 0s 911us/step - loss: 0.2119 - accuracy: 0.9600\n",
      "Epoch 85/100\n",
      "24/24 [==============================] - 0s 1ms/step - loss: 0.2070 - accuracy: 0.9640\n",
      "Epoch 86/100\n",
      "24/24 [==============================] - 0s 997us/step - loss: 0.2022 - accuracy: 0.9680\n",
      "Epoch 87/100\n",
      "24/24 [==============================] - 0s 954us/step - loss: 0.1976 - accuracy: 0.9693\n",
      "Epoch 88/100\n",
      "24/24 [==============================] - 0s 867us/step - loss: 0.1931 - accuracy: 0.9720\n",
      "Epoch 89/100\n",
      "24/24 [==============================] - 0s 867us/step - loss: 0.1888 - accuracy: 0.9733\n",
      "Epoch 90/100\n",
      "24/24 [==============================] - 0s 911us/step - loss: 0.1846 - accuracy: 0.9733\n",
      "Epoch 91/100\n",
      "24/24 [==============================] - 0s 933us/step - loss: 0.1805 - accuracy: 0.9760\n",
      "Epoch 92/100\n",
      "24/24 [==============================] - 0s 824us/step - loss: 0.1765 - accuracy: 0.9760\n",
      "Epoch 93/100\n",
      "24/24 [==============================] - 0s 867us/step - loss: 0.1726 - accuracy: 0.9760\n",
      "Epoch 94/100\n",
      "24/24 [==============================] - 0s 803us/step - loss: 0.1687 - accuracy: 0.9800\n",
      "Epoch 95/100\n",
      "24/24 [==============================] - 0s 818us/step - loss: 0.1649 - accuracy: 0.9813\n",
      "Epoch 96/100\n",
      "24/24 [==============================] - 0s 853us/step - loss: 0.1611 - accuracy: 0.9827\n",
      "Epoch 97/100\n",
      "24/24 [==============================] - 0s 824us/step - loss: 0.1574 - accuracy: 0.9827\n",
      "Epoch 98/100\n",
      "24/24 [==============================] - 0s 780us/step - loss: 0.1539 - accuracy: 0.9827\n",
      "Epoch 99/100\n",
      "24/24 [==============================] - 0s 954us/step - loss: 0.1505 - accuracy: 0.9853\n",
      "Epoch 100/100\n",
      "24/24 [==============================] - 0s 964us/step - loss: 0.1472 - accuracy: 0.9853\n"
     ]
    }
   ],
   "source": [
    "# Fit the model to the training data\n",
    "fit_model = nn_model.fit(X_train_scaled, y_train, epochs=100)"
   ]
  },
  {
   "cell_type": "code",
   "execution_count": 11,
   "id": "fcc45606",
   "metadata": {},
   "outputs": [
    {
     "data": {
      "text/plain": [
       "<AxesSubplot:>"
      ]
     },
     "execution_count": 11,
     "metadata": {},
     "output_type": "execute_result"
    },
    {
     "data": {
      "image/png": "[encoded data removed]",
      "text/plain": [
       "<Figure size 432x288 with 1 Axes>"
      ]
     },
     "metadata": {
      "needs_background": "light"
     },
     "output_type": "display_data"
    }
   ],
   "source": [
    "# Create a DataFrame containing training history\n",
    "history_df = pd.DataFrame(fit_model.history, index=range(1,len(fit_model.history[\"loss\"])+1))\n",
    "\n",
    "# Plot the loss\n",
    "history_df.plot(y=\"loss\")"
   ]
  },
  {
   "cell_type": "code",
   "execution_count": 12,
   "id": "92e73a1b",
   "metadata": {},
   "outputs": [
    {
     "data": {
      "text/plain": [
       "<AxesSubplot:>"
      ]
     },
     "execution_count": 12,
     "metadata": {},
     "output_type": "execute_result"
    },
    {
     "data": {
      "image/png": "[encoded data removed]",
      "text/plain": [
       "<Figure size 432x288 with 1 Axes>"
      ]
     },
     "metadata": {
      "needs_background": "light"
     },
     "output_type": "display_data"
    }
   ],
   "source": [
    "# Plot the accuracy\n",
    "history_df.plot(y=\"accuracy\")"
   ]
  },
  {
   "cell_type": "code",
   "execution_count": 13,
   "id": "08352656",
   "metadata": {},
   "outputs": [
    {
     "name": "stdout",
     "output_type": "stream",
     "text": [
      "8/8 - 0s - loss: 0.1342 - accuracy: 0.9960 - 134ms/epoch - 17ms/step\n",
      "Loss: 0.1341625154018402, Accuracy: 0.9959999918937683\n"
     ]
    }
   ],
   "source": [
    "# Evaluate the model using the test data\n",
    "model_loss, model_accuracy = nn_model.evaluate(X_test_scaled,y_test,verbose=2)\n",
    "print(f\"Loss: {model_loss}, Accuracy: {model_accuracy}\")"
   ]
  },
  {
   "cell_type": "code",
   "execution_count": 14,
   "id": "4522267b",
   "metadata": {},
   "outputs": [
    {
     "name": "stdout",
     "output_type": "stream",
     "text": [
      "1/1 [==============================] - 0s 76ms/step\n"
     ]
    },
    {
     "data": {
      "text/plain": [
       "array([[0],\n",
       "       [1],\n",
       "       [0],\n",
       "       [1],\n",
       "       [0],\n",
       "       [0],\n",
       "       [1],\n",
       "       [1],\n",
       "       [1],\n",
       "       [0]])"
      ]
     },
     "execution_count": 14,
     "metadata": {},
     "output_type": "execute_result"
    }
   ],
   "source": [
    "# Predict the classification of a new set of blob data\n",
    "new_X, new_Y = make_blobs(n_samples=10, centers=2, n_features=2, random_state=78)\n",
    "new_X_scaled = X_scaler.transform(new_X)\n",
    "(nn_model.predict(new_X_scaled) > 0.5).astype(\"int32\")"
   ]
  },
  {
   "cell_type": "code",
   "execution_count": 15,
   "id": "64e7954d",
   "metadata": {},
   "outputs": [
    {
     "data": {
      "text/plain": [
       "<AxesSubplot:xlabel='Feature 1', ylabel='Feature 2'>"
      ]
     },
     "execution_count": 15,
     "metadata": {},
     "output_type": "execute_result"
    },
    {
     "data": {
      "image/png": "[encoded data removed]",
      "text/plain": [
       "<Figure size 432x288 with 2 Axes>"
      ]
     },
     "metadata": {
      "needs_background": "light"
     },
     "output_type": "display_data"
    }
   ],
   "source": [
    "from sklearn.datasets import make_moons\n",
    "\n",
    "# Creating dummy nonlinear data\n",
    "X_moons, y_moons = make_moons(n_samples=1000, noise=0.08, random_state=78)\n",
    "\n",
    "# Transforming y_moons to a vertical vector\n",
    "y_moons = y_moons.reshape(-1, 1)\n",
    "\n",
    "# Creating a DataFrame to plot the nonlinear dummy data\n",
    "df_moons = pd.DataFrame(X_moons, columns=[\"Feature 1\", \"Feature 2\"])\n",
    "df_moons[\"Target\"] = y_moons\n",
    "\n",
    "# Plot the nonlinear dummy data\n",
    "df_moons.plot.scatter(x=\"Feature 1\",y=\"Feature 2\", c=\"Target\",colormap=\"winter\")"
   ]
  },
  {
   "cell_type": "code",
   "execution_count": 16,
   "id": "70181ccd",
   "metadata": {},
   "outputs": [],
   "source": [
    "# Create training and testing sets\n",
    "X_moon_train, X_moon_test, y_moon_train, y_moon_test = train_test_split(\n",
    "    X_moons, y_moons, random_state=78\n",
    ")\n",
    "\n",
    "# Create the scaler instance\n",
    "X_moon_scaler = skl.preprocessing.StandardScaler()\n",
    "\n",
    "# Fit the scaler\n",
    "X_moon_scaler.fit(X_moon_train)\n",
    "\n",
    "# Scale the data\n",
    "X_moon_train_scaled = X_moon_scaler.transform(X_moon_train)\n",
    "X_moon_test_scaled = X_moon_scaler.transform(X_moon_test)"
   ]
  },
  {
   "cell_type": "code",
   "execution_count": 17,
   "id": "812dab2f",
   "metadata": {},
   "outputs": [
    {
     "name": "stdout",
     "output_type": "stream",
     "text": [
      "Epoch 1/100\n",
      "24/24 [==============================] - 0s 1ms/step - loss: 1.5635 - accuracy: 0.3013\n",
      "Epoch 2/100\n",
      "24/24 [==============================] - 0s 1ms/step - loss: 1.3538 - accuracy: 0.3133\n",
      "Epoch 3/100\n",
      "24/24 [==============================] - 0s 1ms/step - loss: 1.2101 - accuracy: 0.3400\n",
      "Epoch 4/100\n",
      "24/24 [==============================] - 0s 1ms/step - loss: 1.1143 - accuracy: 0.3613\n",
      "Epoch 5/100\n",
      "24/24 [==============================] - 0s 1ms/step - loss: 1.0435 - accuracy: 0.3787\n",
      "Epoch 6/100\n",
      "24/24 [==============================] - 0s 1ms/step - loss: 0.9892 - accuracy: 0.3947\n",
      "Epoch 7/100\n",
      "24/24 [==============================] - 0s 1ms/step - loss: 0.9458 - accuracy: 0.4133\n",
      "Epoch 8/100\n",
      "24/24 [==============================] - 0s 1ms/step - loss: 0.9101 - accuracy: 0.4280\n",
      "Epoch 9/100\n",
      "24/24 [==============================] - 0s 1ms/step - loss: 0.8789 - accuracy: 0.4520\n",
      "Epoch 10/100\n",
      "24/24 [==============================] - 0s 1ms/step - loss: 0.8516 - accuracy: 0.4680\n",
      "Epoch 11/100\n",
      "24/24 [==============================] - 0s 1ms/step - loss: 0.8286 - accuracy: 0.4893\n",
      "Epoch 12/100\n",
      "24/24 [==============================] - 0s 1ms/step - loss: 0.8073 - accuracy: 0.5147\n",
      "Epoch 13/100\n",
      "24/24 [==============================] - 0s 1ms/step - loss: 0.7879 - accuracy: 0.5280\n",
      "Epoch 14/100\n",
      "24/24 [==============================] - 0s 1ms/step - loss: 0.7705 - accuracy: 0.5413\n",
      "Epoch 15/100\n",
      "24/24 [==============================] - 0s 1ms/step - loss: 0.7544 - accuracy: 0.5507\n",
      "Epoch 16/100\n",
      "24/24 [==============================] - 0s 1ms/step - loss: 0.7395 - accuracy: 0.5653\n",
      "Epoch 17/100\n",
      "24/24 [==============================] - 0s 1ms/step - loss: 0.7259 - accuracy: 0.5800\n",
      "Epoch 18/100\n",
      "24/24 [==============================] - 0s 1ms/step - loss: 0.7129 - accuracy: 0.5920\n",
      "Epoch 19/100\n",
      "24/24 [==============================] - 0s 2ms/step - loss: 0.7012 - accuracy: 0.5973\n",
      "Epoch 20/100\n",
      "24/24 [==============================] - 0s 1ms/step - loss: 0.6901 - accuracy: 0.6040\n",
      "Epoch 21/100\n",
      "24/24 [==============================] - 0s 1ms/step - loss: 0.6799 - accuracy: 0.6093\n",
      "Epoch 22/100\n",
      "24/24 [==============================] - 0s 1ms/step - loss: 0.6702 - accuracy: 0.6133\n",
      "Epoch 23/100\n",
      "24/24 [==============================] - 0s 1ms/step - loss: 0.6615 - accuracy: 0.6227\n",
      "Epoch 24/100\n",
      "24/24 [==============================] - 0s 1ms/step - loss: 0.6530 - accuracy: 0.6280\n",
      "Epoch 25/100\n",
      "24/24 [==============================] - 0s 1ms/step - loss: 0.6451 - accuracy: 0.6347\n",
      "Epoch 26/100\n",
      "24/24 [==============================] - 0s 1ms/step - loss: 0.6377 - accuracy: 0.6373\n",
      "Epoch 27/100\n",
      "24/24 [==============================] - 0s 1ms/step - loss: 0.6304 - accuracy: 0.6440\n",
      "Epoch 28/100\n",
      "24/24 [==============================] - 0s 1ms/step - loss: 0.6234 - accuracy: 0.6480\n",
      "Epoch 29/100\n",
      "24/24 [==============================] - 0s 1ms/step - loss: 0.6169 - accuracy: 0.6520\n",
      "Epoch 30/100\n",
      "24/24 [==============================] - 0s 2ms/step - loss: 0.6106 - accuracy: 0.6573\n",
      "Epoch 31/100\n",
      "24/24 [==============================] - 0s 1ms/step - loss: 0.6048 - accuracy: 0.6627\n",
      "Epoch 32/100\n",
      "24/24 [==============================] - 0s 1ms/step - loss: 0.5995 - accuracy: 0.6733\n",
      "Epoch 33/100\n",
      "24/24 [==============================] - 0s 2ms/step - loss: 0.5943 - accuracy: 0.6747\n",
      "Epoch 34/100\n",
      "24/24 [==============================] - 0s 1ms/step - loss: 0.5892 - accuracy: 0.6773\n",
      "Epoch 35/100\n",
      "24/24 [==============================] - 0s 3ms/step - loss: 0.5841 - accuracy: 0.6800\n",
      "Epoch 36/100\n",
      "24/24 [==============================] - 0s 1ms/step - loss: 0.5791 - accuracy: 0.6813\n",
      "Epoch 37/100\n",
      "24/24 [==============================] - 0s 1ms/step - loss: 0.5741 - accuracy: 0.6827\n",
      "Epoch 38/100\n",
      "24/24 [==============================] - 0s 6ms/step - loss: 0.5693 - accuracy: 0.6880\n",
      "Epoch 39/100\n",
      "24/24 [==============================] - 0s 2ms/step - loss: 0.5646 - accuracy: 0.6867\n",
      "Epoch 40/100\n",
      "24/24 [==============================] - 0s 911us/step - loss: 0.5600 - accuracy: 0.6893\n",
      "Epoch 41/100\n",
      "24/24 [==============================] - 0s 1ms/step - loss: 0.5558 - accuracy: 0.6933\n",
      "Epoch 42/100\n",
      "24/24 [==============================] - 0s 1ms/step - loss: 0.5517 - accuracy: 0.6960\n",
      "Epoch 43/100\n",
      "24/24 [==============================] - 0s 1ms/step - loss: 0.5478 - accuracy: 0.6987\n",
      "Epoch 44/100\n",
      "24/24 [==============================] - 0s 997us/step - loss: 0.5439 - accuracy: 0.7000\n",
      "Epoch 45/100\n",
      "24/24 [==============================] - 0s 922us/step - loss: 0.5404 - accuracy: 0.6987\n",
      "Epoch 46/100\n",
      "24/24 [==============================] - 0s 954us/step - loss: 0.5367 - accuracy: 0.6987\n",
      "Epoch 47/100\n",
      "24/24 [==============================] - 0s 997us/step - loss: 0.5331 - accuracy: 0.7000\n",
      "Epoch 48/100\n",
      "24/24 [==============================] - 0s 884us/step - loss: 0.5295 - accuracy: 0.7027\n",
      "Epoch 49/100\n",
      "24/24 [==============================] - 0s 911us/step - loss: 0.5261 - accuracy: 0.7040\n",
      "Epoch 50/100\n",
      "24/24 [==============================] - 0s 1ms/step - loss: 0.5226 - accuracy: 0.7120\n",
      "Epoch 51/100\n",
      "24/24 [==============================] - 0s 1ms/step - loss: 0.5193 - accuracy: 0.7120\n",
      "Epoch 52/100\n",
      "24/24 [==============================] - 0s 1ms/step - loss: 0.5158 - accuracy: 0.7133\n",
      "Epoch 53/100\n",
      "24/24 [==============================] - 0s 1ms/step - loss: 0.5127 - accuracy: 0.7147\n",
      "Epoch 54/100\n",
      "24/24 [==============================] - 0s 1ms/step - loss: 0.5095 - accuracy: 0.7187\n",
      "Epoch 55/100\n",
      "24/24 [==============================] - 0s 911us/step - loss: 0.5063 - accuracy: 0.7240\n",
      "Epoch 56/100\n",
      "24/24 [==============================] - 0s 867us/step - loss: 0.5031 - accuracy: 0.7280\n",
      "Epoch 57/100\n",
      "24/24 [==============================] - 0s 954us/step - loss: 0.5000 - accuracy: 0.7333\n",
      "Epoch 58/100\n",
      "24/24 [==============================] - 0s 911us/step - loss: 0.4971 - accuracy: 0.7360\n",
      "Epoch 59/100\n",
      "24/24 [==============================] - 0s 911us/step - loss: 0.4940 - accuracy: 0.7413\n",
      "Epoch 60/100\n",
      "24/24 [==============================] - 0s 910us/step - loss: 0.4910 - accuracy: 0.7440\n",
      "Epoch 61/100\n",
      "24/24 [==============================] - 0s 911us/step - loss: 0.4880 - accuracy: 0.7480\n",
      "Epoch 62/100\n",
      "24/24 [==============================] - 0s 954us/step - loss: 0.4850 - accuracy: 0.7507\n",
      "Epoch 63/100\n",
      "24/24 [==============================] - 0s 867us/step - loss: 0.4820 - accuracy: 0.7533\n",
      "Epoch 64/100\n",
      "24/24 [==============================] - 0s 769us/step - loss: 0.4791 - accuracy: 0.7560\n",
      "Epoch 65/100\n",
      "24/24 [==============================] - 0s 777us/step - loss: 0.4763 - accuracy: 0.7573\n",
      "Epoch 66/100\n",
      "24/24 [==============================] - 0s 781us/step - loss: 0.4735 - accuracy: 0.7587\n",
      "Epoch 67/100\n",
      "24/24 [==============================] - 0s 867us/step - loss: 0.4706 - accuracy: 0.7600\n",
      "Epoch 68/100\n",
      "24/24 [==============================] - 0s 824us/step - loss: 0.4676 - accuracy: 0.7600\n",
      "Epoch 69/100\n",
      "24/24 [==============================] - 0s 780us/step - loss: 0.4647 - accuracy: 0.7613\n",
      "Epoch 70/100\n",
      "24/24 [==============================] - 0s 778us/step - loss: 0.4618 - accuracy: 0.7680\n",
      "Epoch 71/100\n",
      "24/24 [==============================] - 0s 780us/step - loss: 0.4589 - accuracy: 0.7680\n",
      "Epoch 72/100\n",
      "24/24 [==============================] - 0s 824us/step - loss: 0.4560 - accuracy: 0.7707\n",
      "Epoch 73/100\n",
      "24/24 [==============================] - 0s 806us/step - loss: 0.4533 - accuracy: 0.7747\n",
      "Epoch 74/100\n",
      "24/24 [==============================] - 0s 819us/step - loss: 0.4507 - accuracy: 0.7760\n",
      "Epoch 75/100\n",
      "24/24 [==============================] - 0s 824us/step - loss: 0.4481 - accuracy: 0.7800\n",
      "Epoch 76/100\n",
      "24/24 [==============================] - 0s 827us/step - loss: 0.4454 - accuracy: 0.7813\n",
      "Epoch 77/100\n",
      "24/24 [==============================] - 0s 911us/step - loss: 0.4429 - accuracy: 0.7840\n",
      "Epoch 78/100\n",
      "24/24 [==============================] - 0s 824us/step - loss: 0.4405 - accuracy: 0.7853\n",
      "Epoch 79/100\n",
      "24/24 [==============================] - 0s 1ms/step - loss: 0.4379 - accuracy: 0.7880\n",
      "Epoch 80/100\n",
      "24/24 [==============================] - 0s 954us/step - loss: 0.4354 - accuracy: 0.7893\n",
      "Epoch 81/100\n",
      "24/24 [==============================] - 0s 867us/step - loss: 0.4330 - accuracy: 0.7907\n",
      "Epoch 82/100\n"
     ]
    },
    {
     "name": "stdout",
     "output_type": "stream",
     "text": [
      "24/24 [==============================] - 0s 781us/step - loss: 0.4306 - accuracy: 0.7973\n",
      "Epoch 83/100\n",
      "24/24 [==============================] - 0s 910us/step - loss: 0.4283 - accuracy: 0.8000\n",
      "Epoch 84/100\n",
      "24/24 [==============================] - 0s 824us/step - loss: 0.4260 - accuracy: 0.8027\n",
      "Epoch 85/100\n",
      "24/24 [==============================] - 0s 781us/step - loss: 0.4236 - accuracy: 0.8027\n",
      "Epoch 86/100\n",
      "24/24 [==============================] - 0s 911us/step - loss: 0.4212 - accuracy: 0.8027\n",
      "Epoch 87/100\n",
      "24/24 [==============================] - 0s 824us/step - loss: 0.4188 - accuracy: 0.8053\n",
      "Epoch 88/100\n",
      "24/24 [==============================] - 0s 824us/step - loss: 0.4163 - accuracy: 0.8053\n",
      "Epoch 89/100\n",
      "24/24 [==============================] - 0s 821us/step - loss: 0.4139 - accuracy: 0.8080\n",
      "Epoch 90/100\n",
      "24/24 [==============================] - 0s 824us/step - loss: 0.4114 - accuracy: 0.8080\n",
      "Epoch 91/100\n",
      "24/24 [==============================] - 0s 824us/step - loss: 0.4091 - accuracy: 0.8107\n",
      "Epoch 92/100\n",
      "24/24 [==============================] - 0s 907us/step - loss: 0.4067 - accuracy: 0.8120\n",
      "Epoch 93/100\n",
      "24/24 [==============================] - 0s 824us/step - loss: 0.4042 - accuracy: 0.8133\n",
      "Epoch 94/100\n",
      "24/24 [==============================] - 0s 997us/step - loss: 0.4018 - accuracy: 0.8147\n",
      "Epoch 95/100\n",
      "24/24 [==============================] - 0s 954us/step - loss: 0.3993 - accuracy: 0.8200\n",
      "Epoch 96/100\n",
      "24/24 [==============================] - 0s 962us/step - loss: 0.3967 - accuracy: 0.8227\n",
      "Epoch 97/100\n",
      "24/24 [==============================] - 0s 867us/step - loss: 0.3940 - accuracy: 0.8240\n",
      "Epoch 98/100\n",
      "24/24 [==============================] - 0s 911us/step - loss: 0.3914 - accuracy: 0.8280\n",
      "Epoch 99/100\n",
      "24/24 [==============================] - 0s 867us/step - loss: 0.3889 - accuracy: 0.8293\n",
      "Epoch 100/100\n",
      "24/24 [==============================] - 0s 867us/step - loss: 0.3864 - accuracy: 0.8347\n"
     ]
    }
   ],
   "source": [
    "# Training the model with the nonlinear data\n",
    "model_moon = nn_model.fit(X_moon_train_scaled, y_moon_train, epochs=100, shuffle=True)"
   ]
  },
  {
   "cell_type": "code",
   "execution_count": 18,
   "id": "ee637dff",
   "metadata": {},
   "outputs": [
    {
     "data": {
      "text/plain": [
       "<AxesSubplot:>"
      ]
     },
     "execution_count": 18,
     "metadata": {},
     "output_type": "execute_result"
    },
    {
     "data": {
      "image/png": "[encoded data removed]",
      "text/plain": [
       "<Figure size 432x288 with 1 Axes>"
      ]
     },
     "metadata": {
      "needs_background": "light"
     },
     "output_type": "display_data"
    }
   ],
   "source": [
    "# Create a DataFrame containing training history\n",
    "history_df = pd.DataFrame(model_moon.history, index=range(1,len(model_moon.history[\"loss\"])+1))\n",
    "\n",
    "# Plot the loss\n",
    "history_df.plot(y=\"loss\")"
   ]
  },
  {
   "cell_type": "code",
   "execution_count": 19,
   "id": "f28fc9e5",
   "metadata": {},
   "outputs": [
    {
     "data": {
      "text/plain": [
       "<AxesSubplot:>"
      ]
     },
     "execution_count": 19,
     "metadata": {},
     "output_type": "execute_result"
    },
    {
     "data": {
      "image/png": "[encoded data removed]",
      "text/plain": [
       "<Figure size 432x288 with 1 Axes>"
      ]
     },
     "metadata": {
      "needs_background": "light"
     },
     "output_type": "display_data"
    }
   ],
   "source": [
    "# Plot the accuracy\n",
    "history_df.plot(y=\"accuracy\")"
   ]
  },
  {
   "cell_type": "code",
   "execution_count": 20,
   "id": "f0c4fb6e",
   "metadata": {},
   "outputs": [],
   "source": [
    "# Generate our new Sequential model\n",
    "new_model = tf.keras.models.Sequential()"
   ]
  },
  {
   "cell_type": "code",
   "execution_count": 23,
   "id": "0867c8eb",
   "metadata": {},
   "outputs": [],
   "source": [
    "# Add the input and hidden layer\n",
    "number_inputs = 2\n",
    "number_hidden_nodes = 6\n",
    "\n",
    "new_model.add(tf.keras.layers.Dense(units=number_hidden_nodes, activation=\"relu\", input_dim=number_inputs))\n",
    "\n",
    "# Add the output layer that uses a probability activation function\n",
    "new_model.add(tf.keras.layers.Dense(units=1, activation=\"sigmoid\"))"
   ]
  },
  {
   "cell_type": "code",
   "execution_count": 24,
   "id": "c1340f92",
   "metadata": {},
   "outputs": [
    {
     "name": "stdout",
     "output_type": "stream",
     "text": [
      "Epoch 1/100\n",
      "24/24 [==============================] - 0s 1ms/step - loss: 1.0234 - accuracy: 0.1840\n",
      "Epoch 2/100\n",
      "24/24 [==============================] - 0s 2ms/step - loss: 0.9409 - accuracy: 0.3413\n",
      "Epoch 3/100\n",
      "24/24 [==============================] - 0s 2ms/step - loss: 0.8672 - accuracy: 0.4227\n",
      "Epoch 4/100\n",
      "24/24 [==============================] - 0s 1ms/step - loss: 0.8039 - accuracy: 0.4440\n",
      "Epoch 5/100\n",
      "24/24 [==============================] - 0s 1ms/step - loss: 0.7487 - accuracy: 0.4720\n",
      "Epoch 6/100\n",
      "24/24 [==============================] - 0s 1ms/step - loss: 0.7004 - accuracy: 0.5240\n",
      "Epoch 7/100\n",
      "24/24 [==============================] - 0s 1ms/step - loss: 0.6559 - accuracy: 0.7213\n",
      "Epoch 8/100\n",
      "24/24 [==============================] - 0s 1ms/step - loss: 0.6157 - accuracy: 0.8160\n",
      "Epoch 9/100\n",
      "24/24 [==============================] - 0s 1ms/step - loss: 0.5775 - accuracy: 0.8307\n",
      "Epoch 10/100\n",
      "24/24 [==============================] - 0s 1ms/step - loss: 0.5418 - accuracy: 0.8480\n",
      "Epoch 11/100\n",
      "24/24 [==============================] - 0s 1ms/step - loss: 0.5090 - accuracy: 0.8680\n",
      "Epoch 12/100\n",
      "24/24 [==============================] - 0s 1ms/step - loss: 0.4789 - accuracy: 0.8853\n",
      "Epoch 13/100\n",
      "24/24 [==============================] - 0s 1ms/step - loss: 0.4506 - accuracy: 0.8880\n",
      "Epoch 14/100\n",
      "24/24 [==============================] - 0s 1ms/step - loss: 0.4255 - accuracy: 0.8893\n",
      "Epoch 15/100\n",
      "24/24 [==============================] - 0s 1ms/step - loss: 0.4033 - accuracy: 0.8827\n",
      "Epoch 16/100\n",
      "24/24 [==============================] - 0s 1ms/step - loss: 0.3835 - accuracy: 0.8853\n",
      "Epoch 17/100\n",
      "24/24 [==============================] - 0s 1ms/step - loss: 0.3662 - accuracy: 0.8853\n",
      "Epoch 18/100\n",
      "24/24 [==============================] - 0s 2ms/step - loss: 0.3516 - accuracy: 0.8867\n",
      "Epoch 19/100\n",
      "24/24 [==============================] - 0s 1ms/step - loss: 0.3389 - accuracy: 0.8893\n",
      "Epoch 20/100\n",
      "24/24 [==============================] - 0s 1ms/step - loss: 0.3278 - accuracy: 0.8880\n",
      "Epoch 21/100\n",
      "24/24 [==============================] - 0s 1ms/step - loss: 0.3186 - accuracy: 0.8880\n",
      "Epoch 22/100\n",
      "24/24 [==============================] - 0s 1ms/step - loss: 0.3104 - accuracy: 0.8893\n",
      "Epoch 23/100\n",
      "24/24 [==============================] - 0s 1ms/step - loss: 0.3034 - accuracy: 0.8893\n",
      "Epoch 24/100\n",
      "24/24 [==============================] - 0s 1ms/step - loss: 0.2973 - accuracy: 0.8907\n",
      "Epoch 25/100\n",
      "24/24 [==============================] - 0s 2ms/step - loss: 0.2921 - accuracy: 0.8907\n",
      "Epoch 26/100\n",
      "24/24 [==============================] - 0s 1ms/step - loss: 0.2874 - accuracy: 0.8907\n",
      "Epoch 27/100\n",
      "24/24 [==============================] - 0s 1ms/step - loss: 0.2834 - accuracy: 0.8920\n",
      "Epoch 28/100\n",
      "24/24 [==============================] - 0s 1ms/step - loss: 0.2800 - accuracy: 0.8907\n",
      "Epoch 29/100\n",
      "24/24 [==============================] - 0s 1ms/step - loss: 0.2767 - accuracy: 0.8907\n",
      "Epoch 30/100\n",
      "24/24 [==============================] - 0s 3ms/step - loss: 0.2741 - accuracy: 0.8920\n",
      "Epoch 31/100\n",
      "24/24 [==============================] - 0s 2ms/step - loss: 0.2716 - accuracy: 0.8920\n",
      "Epoch 32/100\n",
      "24/24 [==============================] - 0s 1ms/step - loss: 0.2694 - accuracy: 0.8920\n",
      "Epoch 33/100\n",
      "24/24 [==============================] - 0s 2ms/step - loss: 0.2675 - accuracy: 0.8933\n",
      "Epoch 34/100\n",
      "24/24 [==============================] - 0s 5ms/step - loss: 0.2658 - accuracy: 0.8933\n",
      "Epoch 35/100\n",
      "24/24 [==============================] - 0s 2ms/step - loss: 0.2644 - accuracy: 0.8933\n",
      "Epoch 36/100\n",
      "24/24 [==============================] - 0s 911us/step - loss: 0.2630 - accuracy: 0.8933\n",
      "Epoch 37/100\n",
      "24/24 [==============================] - 0s 901us/step - loss: 0.2618 - accuracy: 0.8933\n",
      "Epoch 38/100\n",
      "24/24 [==============================] - 0s 932us/step - loss: 0.2607 - accuracy: 0.8933\n",
      "Epoch 39/100\n",
      "24/24 [==============================] - 0s 862us/step - loss: 0.2597 - accuracy: 0.8933\n",
      "Epoch 40/100\n",
      "24/24 [==============================] - 0s 1ms/step - loss: 0.2589 - accuracy: 0.8920\n",
      "Epoch 41/100\n",
      "24/24 [==============================] - 0s 910us/step - loss: 0.2579 - accuracy: 0.8920\n",
      "Epoch 42/100\n",
      "24/24 [==============================] - 0s 1ms/step - loss: 0.2572 - accuracy: 0.8920\n",
      "Epoch 43/100\n",
      "24/24 [==============================] - 0s 911us/step - loss: 0.2565 - accuracy: 0.8920\n",
      "Epoch 44/100\n",
      "24/24 [==============================] - 0s 867us/step - loss: 0.2559 - accuracy: 0.8920\n",
      "Epoch 45/100\n",
      "24/24 [==============================] - 0s 867us/step - loss: 0.2554 - accuracy: 0.8933\n",
      "Epoch 46/100\n",
      "24/24 [==============================] - 0s 911us/step - loss: 0.2548 - accuracy: 0.8933\n",
      "Epoch 47/100\n",
      "24/24 [==============================] - 0s 911us/step - loss: 0.2543 - accuracy: 0.8933\n",
      "Epoch 48/100\n",
      "24/24 [==============================] - 0s 911us/step - loss: 0.2538 - accuracy: 0.8933\n",
      "Epoch 49/100\n",
      "24/24 [==============================] - 0s 911us/step - loss: 0.2534 - accuracy: 0.8933\n",
      "Epoch 50/100\n",
      "24/24 [==============================] - 0s 908us/step - loss: 0.2530 - accuracy: 0.8933\n",
      "Epoch 51/100\n",
      "24/24 [==============================] - 0s 960us/step - loss: 0.2527 - accuracy: 0.8933\n",
      "Epoch 52/100\n",
      "24/24 [==============================] - 0s 867us/step - loss: 0.2523 - accuracy: 0.8933\n",
      "Epoch 53/100\n",
      "24/24 [==============================] - 0s 911us/step - loss: 0.2521 - accuracy: 0.8933\n",
      "Epoch 54/100\n",
      "24/24 [==============================] - 0s 867us/step - loss: 0.2517 - accuracy: 0.8933\n",
      "Epoch 55/100\n",
      "24/24 [==============================] - 0s 911us/step - loss: 0.2515 - accuracy: 0.8933\n",
      "Epoch 56/100\n",
      "24/24 [==============================] - 0s 1ms/step - loss: 0.2511 - accuracy: 0.8933\n",
      "Epoch 57/100\n",
      "24/24 [==============================] - 0s 997us/step - loss: 0.2509 - accuracy: 0.8933\n",
      "Epoch 58/100\n",
      "24/24 [==============================] - 0s 954us/step - loss: 0.2507 - accuracy: 0.8933\n",
      "Epoch 59/100\n",
      "24/24 [==============================] - 0s 1ms/step - loss: 0.2503 - accuracy: 0.8933\n",
      "Epoch 60/100\n",
      "24/24 [==============================] - 0s 954us/step - loss: 0.2502 - accuracy: 0.8933\n",
      "Epoch 61/100\n",
      "24/24 [==============================] - 0s 911us/step - loss: 0.2499 - accuracy: 0.8933\n",
      "Epoch 62/100\n",
      "24/24 [==============================] - 0s 911us/step - loss: 0.2498 - accuracy: 0.8933\n",
      "Epoch 63/100\n",
      "24/24 [==============================] - 0s 954us/step - loss: 0.2496 - accuracy: 0.8933\n",
      "Epoch 64/100\n",
      "24/24 [==============================] - 0s 997us/step - loss: 0.2493 - accuracy: 0.8933\n",
      "Epoch 65/100\n",
      "24/24 [==============================] - 0s 1ms/step - loss: 0.2491 - accuracy: 0.8933\n",
      "Epoch 66/100\n",
      "24/24 [==============================] - 0s 1ms/step - loss: 0.2490 - accuracy: 0.8933\n",
      "Epoch 67/100\n",
      "24/24 [==============================] - 0s 954us/step - loss: 0.2487 - accuracy: 0.8933\n",
      "Epoch 68/100\n",
      "24/24 [==============================] - 0s 997us/step - loss: 0.2484 - accuracy: 0.8933\n",
      "Epoch 69/100\n",
      "24/24 [==============================] - 0s 997us/step - loss: 0.2483 - accuracy: 0.8960\n",
      "Epoch 70/100\n",
      "24/24 [==============================] - 0s 954us/step - loss: 0.2480 - accuracy: 0.8960\n",
      "Epoch 71/100\n",
      "24/24 [==============================] - 0s 1ms/step - loss: 0.2479 - accuracy: 0.8960\n",
      "Epoch 72/100\n",
      "24/24 [==============================] - 0s 1ms/step - loss: 0.2476 - accuracy: 0.8960\n",
      "Epoch 73/100\n",
      "24/24 [==============================] - 0s 954us/step - loss: 0.2475 - accuracy: 0.8960\n",
      "Epoch 74/100\n",
      "24/24 [==============================] - 0s 954us/step - loss: 0.2472 - accuracy: 0.8960\n",
      "Epoch 75/100\n",
      "24/24 [==============================] - 0s 1ms/step - loss: 0.2470 - accuracy: 0.8960\n",
      "Epoch 76/100\n",
      "24/24 [==============================] - 0s 1ms/step - loss: 0.2468 - accuracy: 0.8960\n",
      "Epoch 77/100\n",
      "24/24 [==============================] - 0s 911us/step - loss: 0.2466 - accuracy: 0.8960\n",
      "Epoch 78/100\n",
      "24/24 [==============================] - 0s 954us/step - loss: 0.2464 - accuracy: 0.8960\n",
      "Epoch 79/100\n",
      "24/24 [==============================] - 0s 911us/step - loss: 0.2462 - accuracy: 0.8960\n",
      "Epoch 80/100\n",
      "24/24 [==============================] - 0s 1ms/step - loss: 0.2461 - accuracy: 0.8947\n",
      "Epoch 81/100\n",
      "24/24 [==============================] - 0s 954us/step - loss: 0.2458 - accuracy: 0.8960\n",
      "Epoch 82/100\n"
     ]
    },
    {
     "name": "stdout",
     "output_type": "stream",
     "text": [
      "24/24 [==============================] - 0s 954us/step - loss: 0.2456 - accuracy: 0.8960\n",
      "Epoch 83/100\n",
      "24/24 [==============================] - 0s 954us/step - loss: 0.2454 - accuracy: 0.8960\n",
      "Epoch 84/100\n",
      "24/24 [==============================] - 0s 997us/step - loss: 0.2452 - accuracy: 0.8960\n",
      "Epoch 85/100\n",
      "24/24 [==============================] - 0s 867us/step - loss: 0.2449 - accuracy: 0.8947\n",
      "Epoch 86/100\n",
      "24/24 [==============================] - 0s 954us/step - loss: 0.2448 - accuracy: 0.8947\n",
      "Epoch 87/100\n",
      "24/24 [==============================] - 0s 911us/step - loss: 0.2446 - accuracy: 0.8947\n",
      "Epoch 88/100\n",
      "24/24 [==============================] - 0s 954us/step - loss: 0.2443 - accuracy: 0.8947\n",
      "Epoch 89/100\n",
      "24/24 [==============================] - 0s 867us/step - loss: 0.2442 - accuracy: 0.8947\n",
      "Epoch 90/100\n",
      "24/24 [==============================] - 0s 954us/step - loss: 0.2440 - accuracy: 0.8947\n",
      "Epoch 91/100\n",
      "24/24 [==============================] - 0s 911us/step - loss: 0.2438 - accuracy: 0.8947\n",
      "Epoch 92/100\n",
      "24/24 [==============================] - 0s 824us/step - loss: 0.2435 - accuracy: 0.8947\n",
      "Epoch 93/100\n",
      "24/24 [==============================] - 0s 997us/step - loss: 0.2433 - accuracy: 0.8960\n",
      "Epoch 94/100\n",
      "24/24 [==============================] - 0s 954us/step - loss: 0.2430 - accuracy: 0.8947\n",
      "Epoch 95/100\n",
      "24/24 [==============================] - 0s 911us/step - loss: 0.2428 - accuracy: 0.8960\n",
      "Epoch 96/100\n",
      "24/24 [==============================] - 0s 954us/step - loss: 0.2426 - accuracy: 0.8960\n",
      "Epoch 97/100\n",
      "24/24 [==============================] - 0s 867us/step - loss: 0.2423 - accuracy: 0.8973\n",
      "Epoch 98/100\n",
      "24/24 [==============================] - 0s 911us/step - loss: 0.2421 - accuracy: 0.8973\n",
      "Epoch 99/100\n",
      "24/24 [==============================] - 0s 911us/step - loss: 0.2418 - accuracy: 0.8973\n",
      "Epoch 100/100\n",
      "24/24 [==============================] - 0s 1ms/step - loss: 0.2416 - accuracy: 0.8973\n"
     ]
    }
   ],
   "source": [
    "# Compile the Sequential model together and customize metrics\n",
    "new_model.compile(loss=\"binary_crossentropy\", optimizer=\"adam\", metrics=[\"accuracy\"])\n",
    "\n",
    "# Fit the model to the training data\n",
    "new_fit_model = new_model.fit(X_moon_train_scaled, y_moon_train, epochs=100, shuffle=True)"
   ]
  },
  {
   "cell_type": "code",
   "execution_count": null,
   "id": "28d68743",
   "metadata": {},
   "outputs": [],
   "source": []
  }
 ],
 "metadata": {
  "kernelspec": {
   "display_name": "mlenv",
   "language": "python",
   "name": "mlenv"
  },
  "language_info": {
   "codemirror_mode": {
    "name": "ipython",
    "version": 3
   },
   "file_extension": ".py",
   "mimetype": "text/x-python",
   "name": "python",
   "nbconvert_exporter": "python",
   "pygments_lexer": "ipython3",
   "version": "3.7.11"
  }
 },
 "nbformat": 4,
 "nbformat_minor": 5
}
